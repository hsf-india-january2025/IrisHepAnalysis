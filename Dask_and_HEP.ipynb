{
 "cells": [
  {
   "cell_type": "markdown",
   "id": "3102b28d-00fa-447d-b91a-af4a7e9929bc",
   "metadata": {},
   "source": [
    "# Drag the blue LocalCluster box from the Dask tab to the cell below"
   ]
  },
  {
   "cell_type": "code",
   "execution_count": null,
   "id": "e73945db-4831-491e-bf12-cef6728efd44",
   "metadata": {},
   "outputs": [],
   "source": []
  },
  {
   "cell_type": "markdown",
   "id": "c82b5c4f-b5aa-4342-8925-379fb44b28c9",
   "metadata": {},
   "source": [
    "# Math with Dask arrays"
   ]
  },
  {
   "cell_type": "code",
   "execution_count": null,
   "id": "82977244-a372-4ff1-af13-89f2b88fc402",
   "metadata": {},
   "outputs": [],
   "source": [
    "import dask\n",
    "import dask.array as da\n",
    "import numpy as np"
   ]
  },
  {
   "cell_type": "code",
   "execution_count": null,
   "id": "ef1d030b-85a9-405d-92b2-9805ead75513",
   "metadata": {},
   "outputs": [],
   "source": [
    "x = da.array([1,2,3])\n",
    "y = da.array([5,7,9])\n",
    "\n",
    "f_xy = 5*x + y\n",
    "f_xy.visualize()"
   ]
  },
  {
   "cell_type": "markdown",
   "id": "6b980295-79f4-4500-96f9-dd2920c7a250",
   "metadata": {},
   "source": [
    "So far we have not evaluated the function:"
   ]
  },
  {
   "cell_type": "code",
   "execution_count": null,
   "id": "3f428769-7b96-4eff-b2bb-c57190e0a526",
   "metadata": {},
   "outputs": [],
   "source": [
    "f_xy"
   ]
  },
  {
   "cell_type": "markdown",
   "id": "9cd455f1-442d-4972-97c7-56d3ddecaae4",
   "metadata": {},
   "source": [
    "We can do that with `.compute()` or call `dask.compute()`:"
   ]
  },
  {
   "cell_type": "code",
   "execution_count": null,
   "id": "d53ae3ed-eecd-4a2e-a688-02b8abce300d",
   "metadata": {},
   "outputs": [],
   "source": [
    "f_xy.compute()  # only now is the calculation being performed"
   ]
  },
  {
   "cell_type": "markdown",
   "id": "4baac9ae-4b45-4eb0-88d1-ccefd205bf95",
   "metadata": {},
   "source": [
    "Compare this to the following _eager_ approach, where the calculation runs immediately."
   ]
  },
  {
   "cell_type": "code",
   "execution_count": null,
   "id": "9e1e6a60-dc68-4d9d-b470-2ed69fb94266",
   "metadata": {},
   "outputs": [],
   "source": [
    "x_np = np.asarray([1,2,3])\n",
    "y_np = np.asarray([5,7,9])\n",
    "\n",
    "f_xy_np = 5*x_np + y_np\n",
    "print(f_xy_np)"
   ]
  },
  {
   "cell_type": "markdown",
   "id": "43bb0f96-d4ca-46c4-99d8-d9aecb4cfa86",
   "metadata": {},
   "source": [
    "# Handling HEP data"
   ]
  },
  {
   "cell_type": "code",
   "execution_count": null,
   "id": "1d0ab6d4-2377-441f-83f5-6c899ae64a99",
   "metadata": {},
   "outputs": [],
   "source": [
    "import awkward as ak\n",
    "import hist.dask\n",
    "import uproot"
   ]
  },
  {
   "cell_type": "code",
   "execution_count": null,
   "id": "589dea63-ed2e-4ae4-9b2c-9dbc558fcee7",
   "metadata": {},
   "outputs": [],
   "source": [
    "fname = {\"https://xrootd-local.unl.edu:1094//store/user/AGC/nanoAOD/TT_TuneCUETP8M1_13TeV-powheg-pythia8/\"\\\n",
    "         \"cmsopendata2015_ttbar_19980_PU25nsData2015v1_76X_mcRun2_asymptotic_v12_ext3-v1_00000_0000.root\": \"Events\"}\n",
    "\n",
    "# reading data eagerly, without Dask\n",
    "with uproot.open(fname) as f:\n",
    "    print(f[\"Electron_pt\"].array())"
   ]
  },
  {
   "cell_type": "markdown",
   "id": "31531a12-f5e9-4b16-9149-abf1990796ed",
   "metadata": {},
   "source": [
    "This might take a few seconds to run. Let's now compare to building a Dask graph for this:"
   ]
  },
  {
   "cell_type": "code",
   "execution_count": null,
   "id": "3e3be402-5248-4b15-a687-763a752c6d53",
   "metadata": {},
   "outputs": [],
   "source": [
    "evts = uproot.dask(fname, steps_per_file=2)\n",
    "arr = evts.Electron_pt"
   ]
  },
  {
   "cell_type": "markdown",
   "id": "93031aa6-0d32-4ca3-8770-3703170eec28",
   "metadata": {},
   "source": [
    "This still takes a bit of time to run as well! We are actually reading a bit of the file metadata here to know what is inside the file. This can be very helpful to know that some graphs will not work:"
   ]
  },
  {
   "cell_type": "code",
   "execution_count": null,
   "id": "cca1aad9-d850-477c-bb06-1c2ba7eb0c16",
   "metadata": {},
   "outputs": [],
   "source": [
    "evts[\"some_variable_that_does_not_exist\"]"
   ]
  },
  {
   "cell_type": "code",
   "execution_count": null,
   "id": "c8af8872-3601-4603-8f6f-a27f7de6bd86",
   "metadata": {},
   "outputs": [],
   "source": [
    "arr.visualize(optimize_graph=True)"
   ]
  },
  {
   "cell_type": "markdown",
   "id": "05a05cf3-2280-4c0e-b770-6c5d4b913544",
   "metadata": {},
   "source": [
    "We could now call `.compute()` on the `arr` object, but let's go one step further and add histogram filling to our graph."
   ]
  },
  {
   "cell_type": "code",
   "execution_count": null,
   "id": "69afb15a-1673-4d43-a92c-eb01dabfd933",
   "metadata": {},
   "outputs": [],
   "source": [
    "h = hist.dask.Hist.new.Regular(100, 0, 250, label=\"electron pT [GeV]\").Double()\n",
    "# note how this looks very similar to the non-Dask version\n",
    "# hist.Hist.new.Regular(100, 0, 250, label=\"electron pT [GeV]\").Double()\n",
    "\n",
    "def my_data(evts):\n",
    "    return ak.flatten(evts.Electron_pt)\n",
    "\n",
    "task = h.fill(my_data(evts))\n",
    "\n",
    "dask.visualize(task, optimize_graph=True)"
   ]
  },
  {
   "cell_type": "code",
   "execution_count": null,
   "id": "9d8eb9f3-7f4d-49c3-95e6-087dff3145e8",
   "metadata": {},
   "outputs": [],
   "source": [
    "h_computed, *_ = dask.compute(task)\n",
    "h_computed.plot()"
   ]
  },
  {
   "cell_type": "markdown",
   "id": "7725ada0-e429-48a6-84a2-2da3a29a0cfa",
   "metadata": {},
   "source": [
    "# The dashboard\n",
    "\n",
    "Dask provides a dashboard with a lot of useful information: https://docs.dask.org/en/latest/dashboard.html.\n",
    "\n",
    "You can access it from the JupyterHub menu: \"File\" -> \"Launch Dask Dashboard Layout\". You can also click one of the yellow buttons in the Dask tab on the left to get access to lots of additional graphs."
   ]
  },
  {
   "cell_type": "code",
   "execution_count": null,
   "id": "3d13a111-144d-46ff-9826-885fd55cb71c",
   "metadata": {},
   "outputs": [],
   "source": [
    "import dask.bag\n",
    "import numpy as np\n",
    "import time"
   ]
  },
  {
   "cell_type": "markdown",
   "id": "0623dec6-6f00-4bd7-b5a8-9cc1782e16e6",
   "metadata": {},
   "source": [
    "Our data here is an array of numbers that we pack into a Dask `bag`."
   ]
  },
  {
   "cell_type": "code",
   "execution_count": null,
   "id": "edd1b6cb-b704-48e3-b15b-f5083b5b5a08",
   "metadata": {},
   "outputs": [],
   "source": [
    "NUM_TASKS = 8\n",
    "\n",
    "x = np.linspace(1, NUM_TASKS, NUM_TASKS)\n",
    "b = dask.bag.from_sequence(x, npartitions=len(x))"
   ]
  },
  {
   "cell_type": "code",
   "execution_count": null,
   "id": "066ca6cf-b2d1-4738-8151-2095c5710057",
   "metadata": {},
   "outputs": [],
   "source": [
    "b.visualize()"
   ]
  },
  {
   "cell_type": "code",
   "execution_count": null,
   "id": "77922550-9610-4238-a745-4c52a1a955a9",
   "metadata": {},
   "outputs": [],
   "source": [
    "def my_function(num):\n",
    "    time.sleep(1)\n",
    "    return num\n",
    "\n",
    "futures = b.map(my_function)  # apply the function to each entry of the bag\n",
    "mystery_task = futures.fold(lambda x,y: x+y, split_every=4)  # parallel reduction pattern"
   ]
  },
  {
   "cell_type": "code",
   "execution_count": null,
   "id": "68fbc9de-0256-4f15-8134-ce70cdb20bd9",
   "metadata": {},
   "outputs": [],
   "source": [
    "mystery_task.visualize(optimize_graph=True)"
   ]
  },
  {
   "cell_type": "markdown",
   "id": "f11d0fd6-1506-4171-8f8a-a28e0ed55a60",
   "metadata": {},
   "source": [
    "**What does this `mystery_task` do?** What result do we expect?"
   ]
  },
  {
   "cell_type": "code",
   "execution_count": null,
   "id": "190b56b1-f766-4988-aad8-3ee2fa268f09",
   "metadata": {},
   "outputs": [],
   "source": [
    "result, *_ = dask.compute(mystery_task)\n",
    "print(result)"
   ]
  },
  {
   "cell_type": "markdown",
   "id": "d7dd4232-2347-4b94-bdae-9621fc4931ee",
   "metadata": {},
   "source": [
    "### Exercise\n",
    "\n",
    "Look at the \"Graph\" visualization in the Dask dashboard. It shows the progres of the computation while the cell above is running. Change the task such that the graph becomes too large to be visualized in the dashboard! You might want to comment out the visualizations above in this notebook: they might also become huge!"
   ]
  },
  {
   "cell_type": "markdown",
   "id": "bad4225a-910a-43d6-bb1f-a859fd026381",
   "metadata": {},
   "source": [
    "# Using `coffea`\n",
    "\n",
    "`coffea` provides us with a very convenient interface for handling our data through the provided schemas."
   ]
  },
  {
   "cell_type": "code",
   "execution_count": null,
   "id": "9c2a3d9c-7fcb-4377-a7ae-8e995b621dcb",
   "metadata": {},
   "outputs": [],
   "source": [
    "import warnings\n",
    "warnings.filterwarnings(\"ignore\")\n",
    "\n",
    "from coffea.nanoevents import NanoEventsFactory, NanoAODSchema"
   ]
  },
  {
   "cell_type": "code",
   "execution_count": null,
   "id": "7fa2557e-9b98-4832-a90d-30a7441f3a7a",
   "metadata": {},
   "outputs": [],
   "source": [
    "evts = NanoEventsFactory.from_root(fname, schemaclass=NanoAODSchema).events()\n",
    "\n",
    "evts.Electron"
   ]
  },
  {
   "cell_type": "markdown",
   "id": "167932eb-60d6-4910-828d-29a55ae0bdde",
   "metadata": {},
   "source": [
    "A full physics analysis might contain a lot of code, but we can organize it in functions in ways we find convenient."
   ]
  },
  {
   "cell_type": "code",
   "execution_count": null,
   "id": "7337f227-63a5-443e-b12f-78dadc75619e",
   "metadata": {},
   "outputs": [],
   "source": [
    "def get_mass(electrons):\n",
    "    \"\"\"mass of the first two electrons in an event\"\"\"\n",
    "    return (electrons[:, 0:1] + electrons[:, 1:2]).mass\n",
    "\n",
    "def my_analysis(evts):\n",
    "    \"\"\"calculate the di-electron mass of events with exactly 2 electrons\"\"\"\n",
    "    evts = evts[ak.num(evts.Electron, axis=1) == 2]\n",
    "    mass = get_mass(evts.Electron)\n",
    "    return mass\n",
    "\n",
    "coffea_task = my_analysis(evts)"
   ]
  },
  {
   "cell_type": "markdown",
   "id": "ef1a0551-8a12-4685-8ac2-53ee3543b570",
   "metadata": {},
   "source": [
    "The full task graph for this (before optimization) is already containing quite a few nodes:"
   ]
  },
  {
   "cell_type": "code",
   "execution_count": null,
   "id": "124025fe-21b8-45fd-a6b8-5219d19da149",
   "metadata": {},
   "outputs": [],
   "source": [
    "dask.visualize(coffea_task)"
   ]
  },
  {
   "cell_type": "markdown",
   "id": "3bab6a11-fb43-437d-b822-5ac9cb59f3a7",
   "metadata": {},
   "source": [
    "After optimization it is _much_ smaller:"
   ]
  },
  {
   "cell_type": "code",
   "execution_count": null,
   "id": "0e8fc15e-b076-4e81-96c5-4aea70f8e5b7",
   "metadata": {},
   "outputs": [],
   "source": [
    "dask.visualize(coffea_task, optimize_graph=True)"
   ]
  },
  {
   "cell_type": "code",
   "execution_count": null,
   "id": "4b21f267-b01b-4ac1-8a4c-35d58fe3ce63",
   "metadata": {},
   "outputs": [],
   "source": [
    "dask.compute(coffea_task)"
   ]
  },
  {
   "cell_type": "markdown",
   "id": "1709c6c1-9d88-46a7-9c8a-405a238e64b3",
   "metadata": {},
   "source": [
    "Since we have our `coffea_task` as a graph, we can also be clever about which data to load from the files we are processing. Only data that is actually needed gets loaded."
   ]
  },
  {
   "cell_type": "code",
   "execution_count": null,
   "id": "ef35ee34-81b5-4d9a-a451-d707f7c8e490",
   "metadata": {},
   "outputs": [],
   "source": [
    "import dask_awkward as dak\n",
    "dak.necessary_columns(coffea_task)"
   ]
  },
  {
   "cell_type": "markdown",
   "id": "8933a6be-130a-4f92-a453-f1436d70acc7",
   "metadata": {},
   "source": [
    "### Exercise\n",
    "\n",
    "Create a task graph that fills the electron mass into a histogram. Then execute that graph and visualize the histogram."
   ]
  },
  {
   "cell_type": "code",
   "execution_count": null,
   "id": "6e19e289-d424-4f06-b031-40434c4ca4b9",
   "metadata": {},
   "outputs": [],
   "source": [
    "...  # your code"
   ]
  }
 ],
 "metadata": {
  "kernelspec": {
   "display_name": "Python 3 (ipykernel)",
   "language": "python",
   "name": "python3"
  },
  "language_info": {
   "codemirror_mode": {
    "name": "ipython",
    "version": 3
   },
   "file_extension": ".py",
   "mimetype": "text/x-python",
   "name": "python",
   "nbconvert_exporter": "python",
   "pygments_lexer": "ipython3",
   "version": "3.10.16"
  }
 },
 "nbformat": 4,
 "nbformat_minor": 5
}
